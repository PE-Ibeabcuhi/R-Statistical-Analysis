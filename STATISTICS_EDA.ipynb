{
  "nbformat": 4,
  "nbformat_minor": 0,
  "metadata": {
    "colab": {
      "provenance": []
    },
    "kernelspec": {
      "name": "python3",
      "display_name": "Python 3"
    },
    "language_info": {
      "name": "python"
    }
  },
  "cells": [
    {
      "cell_type": "markdown",
      "source": [
        "## INTRODUCTION\n",
        "This notebook conducts a statistical analysis of a dataset using the R programming language.\n",
        "\n",
        "The dataset utilized for this analysis is sourced from Kaggle, and you can access it [here](https://www.kaggle.com/datasets/pratikgarai/mobile-phone-specifications-and-prices/data).\n",
        "\n",
        "During this analysis, we performed exploratory data analysis (EDAs), identified outliers using both Chebyshev’s rule and Box plot, and explored various probability distributions. Additionally, we conducted several hypothesis tests."
      ],
      "metadata": {
        "id": "6KBWzGdPAMlM"
      }
    },
    {
      "cell_type": "code",
      "execution_count": 2,
      "metadata": {
        "colab": {
          "base_uri": "https://localhost:8080/"
        },
        "id": "gAmKuYj3PcfC",
        "outputId": "9cf8d907-a173-497d-efd6-46a6d069e696"
      },
      "outputs": [
        {
          "output_type": "stream",
          "name": "stdout",
          "text": [
            "Requirement already satisfied: rpy2==3.5.1 in /usr/local/lib/python3.10/dist-packages (3.5.1)\n",
            "Requirement already satisfied: cffi>=1.10.0 in /usr/local/lib/python3.10/dist-packages (from rpy2==3.5.1) (1.16.0)\n",
            "Requirement already satisfied: jinja2 in /usr/local/lib/python3.10/dist-packages (from rpy2==3.5.1) (3.1.3)\n",
            "Requirement already satisfied: pytz in /usr/local/lib/python3.10/dist-packages (from rpy2==3.5.1) (2023.4)\n",
            "Requirement already satisfied: tzlocal in /usr/local/lib/python3.10/dist-packages (from rpy2==3.5.1) (5.2)\n",
            "Requirement already satisfied: pycparser in /usr/local/lib/python3.10/dist-packages (from cffi>=1.10.0->rpy2==3.5.1) (2.21)\n",
            "Requirement already satisfied: MarkupSafe>=2.0 in /usr/local/lib/python3.10/dist-packages (from jinja2->rpy2==3.5.1) (2.1.5)\n"
          ]
        }
      ],
      "source": [
        "# Downloading the R language on Collab\n",
        "!pip install rpy2==3.5.1\n",
        "%load_ext rpy2.ipython"
      ]
    },
    {
      "cell_type": "code",
      "source": [
        "# Reading the dataset\n",
        "%%R\n",
        "data=read.csv('/content/ndtv_data_final.csv')\n",
        "# Getting the first six rows of the dataset\n",
        "head(data)"
      ],
      "metadata": {
        "colab": {
          "base_uri": "https://localhost:8080/"
        },
        "id": "3EdIgjWvP83Z",
        "outputId": "30d199a2-746d-4d3a-808f-25216e82ae11"
      },
      "execution_count": 3,
      "outputs": [
        {
          "output_type": "stream",
          "name": "stdout",
          "text": [
            "  X                           Name   Brand                  Model\n",
            "1 0 OnePlus 7T Pro McLaren Edition OnePlus 7T Pro McLaren Edition\n",
            "2 1                  Realme X2 Pro  Realme                 X2 Pro\n",
            "3 2              iPhone 11 Pro Max   Apple      iPhone 11 Pro Max\n",
            "4 3                      iPhone 11   Apple              iPhone 11\n",
            "5 4                   LG G8X ThinQ      LG              G8X ThinQ\n",
            "6 5                     OnePlus 7T OnePlus                     7T\n",
            "  Battery.capacity..mAh. Screen.size..inches. Touchscreen Resolution.x\n",
            "1                   4085                 6.67         Yes         1440\n",
            "2                   4000                 6.50         Yes         1080\n",
            "3                   3969                 6.50         Yes         1242\n",
            "4                   3110                 6.10         Yes          828\n",
            "5                   4000                 6.40         Yes         1080\n",
            "6                   3800                 6.55         Yes         1080\n",
            "  Resolution.y Processor RAM..MB. Internal.storage..GB. Rear.camera\n",
            "1         3120         8    12000                   256          48\n",
            "2         2400         8     6000                    64          64\n",
            "3         2688         6     4000                    64          12\n",
            "4         1792         6     4000                    64          12\n",
            "5         2340         8     6000                   128          12\n",
            "6         2400         8     8000                   128          48\n",
            "  Front.camera Operating.system Wi.Fi Bluetooth GPS Number.of.SIMs X3G X4G..LTE\n",
            "1           16          Android   Yes       Yes Yes              2 Yes      Yes\n",
            "2           16          Android   Yes       Yes Yes              2 Yes      Yes\n",
            "3           12              iOS   Yes       Yes Yes              2 Yes      Yes\n",
            "4           12              iOS   Yes       Yes Yes              2 Yes      Yes\n",
            "5           32          Android   Yes       Yes Yes              1  No       No\n",
            "6           16          Android   Yes       Yes  No              2 Yes      Yes\n",
            "   Price\n",
            "1  58998\n",
            "2  27999\n",
            "3 106900\n",
            "4  62900\n",
            "5  49990\n",
            "6  34930\n"
          ]
        }
      ]
    },
    {
      "cell_type": "code",
      "source": [
        "# Getting the overall summary of the dataset\n",
        "%%R\n",
        "summary(data)"
      ],
      "metadata": {
        "colab": {
          "base_uri": "https://localhost:8080/"
        },
        "id": "fRuYg2gWCniZ",
        "outputId": "27b7df71-c0fa-473a-948e-c1225fbc83ce"
      },
      "execution_count": 4,
      "outputs": [
        {
          "output_type": "stream",
          "name": "stdout",
          "text": [
            "       X              Name              Brand              Model          \n",
            " Min.   :   0.0   Length:1359        Length:1359        Length:1359       \n",
            " 1st Qu.: 339.5   Class :character   Class :character   Class :character  \n",
            " Median : 679.0   Mode  :character   Mode  :character   Mode  :character  \n",
            " Mean   : 679.0                                                           \n",
            " 3rd Qu.:1018.5                                                           \n",
            " Max.   :1358.0                                                           \n",
            " Battery.capacity..mAh. Screen.size..inches. Touchscreen       \n",
            " Min.   :1010           Min.   :2.400        Length:1359       \n",
            " 1st Qu.:2300           1st Qu.:5.000        Class :character  \n",
            " Median :3000           Median :5.200        Mode  :character  \n",
            " Mean   :2938           Mean   :5.291                          \n",
            " 3rd Qu.:3500           3rd Qu.:5.700                          \n",
            " Max.   :6000           Max.   :7.300                          \n",
            "  Resolution.x     Resolution.y    Processor         RAM..MB.    \n",
            " Min.   : 240.0   Min.   : 320   Min.   : 1.000   Min.   :   64  \n",
            " 1st Qu.: 720.0   1st Qu.:1280   1st Qu.: 4.000   1st Qu.: 1000  \n",
            " Median : 720.0   Median :1280   Median : 4.000   Median : 2000  \n",
            " Mean   : 811.5   Mean   :1491   Mean   : 5.551   Mean   : 2489  \n",
            " 3rd Qu.:1080.0   3rd Qu.:1920   3rd Qu.: 8.000   3rd Qu.: 3000  \n",
            " Max.   :2160.0   Max.   :3840   Max.   :10.000   Max.   :12000  \n",
            " Internal.storage..GB.  Rear.camera      Front.camera    Operating.system  \n",
            " Min.   :  0.064       Min.   :  0.00   Min.   : 0.000   Length:1359       \n",
            " 1st Qu.:  8.000       1st Qu.:  8.00   1st Qu.: 2.000   Class :character  \n",
            " Median : 16.000       Median : 12.20   Median : 5.000   Mode  :character  \n",
            " Mean   : 30.655       Mean   : 12.07   Mean   : 7.038                     \n",
            " 3rd Qu.: 32.000       3rd Qu.: 13.00   3rd Qu.: 8.000                     \n",
            " Max.   :512.000       Max.   :108.00   Max.   :48.000                     \n",
            "    Wi.Fi            Bluetooth             GPS            Number.of.SIMs \n",
            " Length:1359        Length:1359        Length:1359        Min.   :1.000  \n",
            " Class :character   Class :character   Class :character   1st Qu.:2.000  \n",
            " Mode  :character   Mode  :character   Mode  :character   Median :2.000  \n",
            "                                                          Mean   :1.834  \n",
            "                                                          3rd Qu.:2.000  \n",
            "                                                          Max.   :3.000  \n",
            "     X3G              X4G..LTE             Price       \n",
            " Length:1359        Length:1359        Min.   :   494  \n",
            " Class :character   Class :character   1st Qu.:  4764  \n",
            " Mode  :character   Mode  :character   Median :  6999  \n",
            "                                       Mean   : 11466  \n",
            "                                       3rd Qu.: 11999  \n",
            "                                       Max.   :174990  \n"
          ]
        }
      ]
    },
    {
      "cell_type": "markdown",
      "source": [
        "#### Observation\n",
        "Paying attention to just the price column, we can easily see that the average cost for phones in the dataset is 11,466 rupees. Also, it is almost certain that there are outliers in the price column given the range of the prices."
      ],
      "metadata": {
        "id": "Sr2QUpYE6qwj"
      }
    },
    {
      "cell_type": "markdown",
      "source": [
        "## Question 1\n",
        "\n",
        "### A: Describe the dataset using appropriate plots/curves/chart.\n",
        "\n",
        "Here, we will look at the distribution of certain columns and answering the following question to get a better description of our dataset.\n",
        "* What is the distribution of prices in the dataset\n",
        "* What is the distribution of RAM in the dataset\n",
        "* What is the distribution of Battery Capacity in the dataset\n",
        "* What is the distribution of the number of sims in the dataset\n",
        "\n",
        "**1. Distribution of Price**"
      ],
      "metadata": {
        "id": "G-YkXy52QMzJ"
      }
    },
    {
      "cell_type": "code",
      "source": [
        "# Distribution of Price\n",
        "%%R\n",
        "hist(data$Price, main = \"Distribution of Price\",  xlab = \"Price\", ylab = \"Count\",col = \"skyblue\")"
      ],
      "metadata": {
        "colab": {
          "base_uri": "https://localhost:8080/",
          "height": 497
        },
        "id": "I0TyBk9vQGtC",
        "outputId": "76b85c68-3508-4bad-92ba-1d0a8242c2b2"
      },
      "execution_count": null,
      "outputs": [
        {
          "output_type": "display_data",
          "data": {
            "image/png": "[encoded data removed]"
          },
          "metadata": {}
        }
      ]
    },
    {
      "cell_type": "markdown",
      "source": [
        "#### Observation:\n",
        "From this, we can see that most devices cost below 50,000 INR, and the most expensive phones cost about 150,000 INR.\\\n",
        "\n",
        "\n",
        "**2. Distribution of RAM**"
      ],
      "metadata": {
        "id": "uU5ujshscA1Q"
      }
    },
    {
      "cell_type": "code",
      "source": [
        "# Distribution of Ram\n",
        "%%R\n",
        "hist(data$RAM, main = \"Distribution of Ram\", xlab = \"RAM\",col = \"skyblue\")"
      ],
      "metadata": {
        "colab": {
          "base_uri": "https://localhost:8080/",
          "height": 497
        },
        "id": "w1h0fCCfQ2bd",
        "outputId": "1af24f54-3db7-49b1-8a71-f1f2bf3e8d22"
      },
      "execution_count": null,
      "outputs": [
        {
          "output_type": "display_data",
          "data": {
            "image/png": "[encoded data removed]"
          },
          "metadata": {}
        }
      ]
    },
    {
      "cell_type": "markdown",
      "source": [
        "#### Observation\n",
        "From the graph, we can see that most Phones in the dataset have below 4000 and 2000 RAM, and very few phones have 12000 RAM.\n",
        "\n",
        "**3. Distribution of Price**"
      ],
      "metadata": {
        "id": "jnWSkns3drPw"
      }
    },
    {
      "cell_type": "code",
      "source": [
        "# Distribution of Battery Capacity\n",
        "%%R\n",
        "hist(data$Battery.capacity..mAh., main = \"Distribution of Battery Capacity\",xlab = \"Battery Capacity\", col = \"skyblue\")"
      ],
      "metadata": {
        "colab": {
          "base_uri": "https://localhost:8080/",
          "height": 497
        },
        "id": "IL2ve0EWRGov",
        "outputId": "0a648a2a-d8c9-4d70-80dd-4a943fe54589"
      },
      "execution_count": null,
      "outputs": [
        {
          "output_type": "display_data",
          "data": {
            "image/png": "[encoded data removed]"
          },
          "metadata": {}
        }
      ]
    },
    {
      "cell_type": "markdown",
      "source": [
        "#### Observation:\n",
        "The distribution of Batter capacity has somewhat of a near normal distribution. Majority of the phones have within 2000 an 40000 mAh capacity.\n",
        "\n",
        "**4. Number of sims distribution**"
      ],
      "metadata": {
        "id": "zqiOT7dTeZWL"
      }
    },
    {
      "cell_type": "code",
      "source": [
        "# Number of sims distribution\n",
        "%%R\n",
        "N_sim = table(data$Number.of.SIMs)\n",
        "N_sim_percent = round(N_sim / sum(N_sim) * 100,2)\n",
        "# Plotting a pie chart to give a visual representation\n",
        "pie(N_sim_percent, main = \"Number of Sim Distribution\", col = rainbow(length(N_sim_percent)))\n",
        "legend(\"topright\", legend = names(N_sim) , fill = rainbow(length(N_sim)), title = \"N_sim\")"
      ],
      "metadata": {
        "colab": {
          "base_uri": "https://localhost:8080/",
          "height": 497
        },
        "id": "_lKk-W62SBQe",
        "outputId": "2791a4dc-4245-44f5-b517-07fb539b539c"
      },
      "execution_count": null,
      "outputs": [
        {
          "output_type": "display_data",
          "data": {
            "image/png": "[encoded data removed]"
          },
          "metadata": {}
        }
      ]
    },
    {
      "cell_type": "markdown",
      "source": [
        "#### Observations:\n",
        "We can see, that a good percentage of the Phones have 2 sim ports, very few phones have 3 sims.\n",
        "\n",
        "**5. Most Common Operating System**"
      ],
      "metadata": {
        "id": "kUkHeryaewQm"
      }
    },
    {
      "cell_type": "code",
      "source": [
        "%%R\n",
        "OS = data$Operating.system\n",
        "OS_count = table(OS)\n",
        "OS_count_sorted = sort(OS_count, decreasing = TRUE)\n",
        "\n",
        "\n",
        "# Visualizing on a bar plot\n",
        "barplot(OS_count_sorted, main = \"Operating System Counts\", xlab = \"Operating System\", ylab = \"Count\", col = \"skyblue\", las = 1)\n",
        "\n"
      ],
      "metadata": {
        "colab": {
          "base_uri": "https://localhost:8080/",
          "height": 497
        },
        "id": "I71iYUzCS8An",
        "outputId": "668ebd73-36a2-465d-e5b6-04b037c9a9cf"
      },
      "execution_count": null,
      "outputs": [
        {
          "output_type": "display_data",
          "data": {
            "image/png": "[encoded data removed]"
          },
          "metadata": {}
        }
      ]
    },
    {
      "cell_type": "markdown",
      "source": [
        "#### Observation:\n",
        "From the bar chart, we can see that the most common OS in the data set is the andriod OS.\n",
        "\n",
        "\n",
        "**6 The Most Expensive Phones**"
      ],
      "metadata": {
        "id": "3Ra6pzxa9DVf"
      }
    },
    {
      "cell_type": "code",
      "source": [
        "# Top Most Expensive phones\n",
        "%%R\n",
        "Models= data[order(data$Price, decreasing = TRUE),]\n",
        "Top_models = Models[,c('Model','Price')]\n",
        "Top_10_models= Top_models[1:10,]\n",
        "Top_10_models\n",
        "\n",
        "# Plot the bar chart\n",
        "barplot(height = Top_10_models$Price, names.arg = Top_10_models$Model, main = \"Most Expensive Models\", xlab = \"Price\", ylab = \"Model\", horiz = TRUE, las = 1, col = \"skyblue\")\n",
        "\n",
        "\n"
      ],
      "metadata": {
        "colab": {
          "base_uri": "https://localhost:8080/",
          "height": 497
        },
        "id": "BWkHXEPGUHc4",
        "outputId": "1d6a35e5-eac2-4816-d97c-beb0064e8c7b"
      },
      "execution_count": null,
      "outputs": [
        {
          "output_type": "display_data",
          "data": {
            "image/png": "[encoded data removed]"
          },
          "metadata": {}
        }
      ]
    },
    {
      "cell_type": "markdown",
      "source": [
        "#### Observations\n",
        "The samsung galaxy z flip and smasung galaxy fold are the most expensive phones in the dataset, costing over 150,000 INR."
      ],
      "metadata": {
        "id": "ogzU5wYK9A1w"
      }
    },
    {
      "cell_type": "markdown",
      "source": [
        "### B. Compute the central and variational measures of an attribute in the dataset\n",
        "\n",
        "For this section, we will be using the Price column.\n",
        "\n",
        "The Cental Measures here are:\n",
        "* Mean\n",
        "* Median\n",
        "* Mode\n",
        "\n",
        "The Variational Measures here are:\n",
        "* Range\n",
        "* Standard Deviation\n",
        "* Variance"
      ],
      "metadata": {
        "id": "zgLCp4amQLaF"
      }
    },
    {
      "cell_type": "code",
      "source": [
        "# Calculating the mean\n",
        "%%R\n",
        "Price = data$Price\n",
        "Mean = round(mean(Price),2)\n",
        "print(c('The mean Price is:',Mean))"
      ],
      "metadata": {
        "colab": {
          "base_uri": "https://localhost:8080/"
        },
        "id": "ym3iERlxVuM5",
        "outputId": "7c77bfca-4ead-429c-bd9b-9cca3b7372e3"
      },
      "execution_count": 5,
      "outputs": [
        {
          "output_type": "stream",
          "name": "stdout",
          "text": [
            "[1] \"The mean Price is:\" \"11465.83\"          \n"
          ]
        }
      ]
    },
    {
      "cell_type": "code",
      "source": [
        "# Calculating the Median\n",
        "%%R\n",
        "Median = median(Price)\n",
        "print(c('The median Price is:',Median))"
      ],
      "metadata": {
        "colab": {
          "base_uri": "https://localhost:8080/"
        },
        "id": "GuGzUH5uWbFF",
        "outputId": "629adc59-d0d9-42a0-9524-b8240f3de0a1"
      },
      "execution_count": 6,
      "outputs": [
        {
          "output_type": "stream",
          "name": "stdout",
          "text": [
            "[1] \"The median Price is:\" \"6999\"                \n"
          ]
        }
      ]
    },
    {
      "cell_type": "code",
      "source": [
        "# Calculating the mode\n",
        "%%R\n",
        "count = table(Price)\n",
        "Mode = names(count)[which(count==max(count))]\n",
        "print(c('The modal Price is:',Mode))"
      ],
      "metadata": {
        "colab": {
          "base_uri": "https://localhost:8080/"
        },
        "id": "WNVwlyc2WpXK",
        "outputId": "ce469813-ef84-4523-c8cf-f690515edb04"
      },
      "execution_count": 7,
      "outputs": [
        {
          "output_type": "stream",
          "name": "stdout",
          "text": [
            "[1] \"The modal Price is:\" \"4999\"               \n"
          ]
        }
      ]
    },
    {
      "cell_type": "markdown",
      "source": [
        "**Variational Measures**"
      ],
      "metadata": {
        "id": "SZZLr8PaYhq2"
      }
    },
    {
      "cell_type": "code",
      "source": [
        "# Calculating Range\n",
        "%%R\n",
        "Range = max(Price)-min(Price)\n",
        "print(c('The range is:',Range))\n"
      ],
      "metadata": {
        "colab": {
          "base_uri": "https://localhost:8080/"
        },
        "id": "I1IEiCi3YmZf",
        "outputId": "f45b6269-01a2-42a4-d130-c06cb44ea8ba"
      },
      "execution_count": 10,
      "outputs": [
        {
          "output_type": "stream",
          "name": "stdout",
          "text": [
            "[1] \"The range is:\" \"174496\"       \n"
          ]
        }
      ]
    },
    {
      "cell_type": "code",
      "source": [
        "# Calculating Standard Deviation\n",
        "%%R\n",
        "SD = round(sd(Price),2)\n",
        "print(c('The Standard deviation is:',SD))"
      ],
      "metadata": {
        "colab": {
          "base_uri": "https://localhost:8080/"
        },
        "id": "Bkz2lTOiY594",
        "outputId": "cfd87d11-cf4e-4298-aa4a-a6cf90a4f221"
      },
      "execution_count": 11,
      "outputs": [
        {
          "output_type": "stream",
          "name": "stdout",
          "text": [
            "[1] \"The Standard deviation is:\" \"13857.5\"                   \n"
          ]
        }
      ]
    },
    {
      "cell_type": "code",
      "source": [
        "# Calculatibe Variance\n",
        "%%R\n",
        "Varience = round(var(Price),2)\n",
        "print(c('Variance is :',Varience))"
      ],
      "metadata": {
        "colab": {
          "base_uri": "https://localhost:8080/"
        },
        "id": "LICIGAyVZJum",
        "outputId": "52f131dd-d57d-4594-e68f-dd070c2567d4"
      },
      "execution_count": 12,
      "outputs": [
        {
          "output_type": "stream",
          "name": "stdout",
          "text": [
            "[1] \"Variance is :\" \"192030225.23\" \n"
          ]
        }
      ]
    },
    {
      "cell_type": "code",
      "source": [
        "# Calculating he Quantile range\n",
        "%%R\n",
        "Quantile = quantile(Price)\n",
        "Quantile"
      ],
      "metadata": {
        "colab": {
          "base_uri": "https://localhost:8080/"
        },
        "id": "Fs845SKPZV2C",
        "outputId": "fa5f54f7-e6f8-4313-a087-96fbba6f9e3d"
      },
      "execution_count": 13,
      "outputs": [
        {
          "output_type": "stream",
          "name": "stdout",
          "text": [
            "      0%      25%      50%      75%     100% \n",
            "   494.0   4763.5   6999.0  11999.0 174990.0 \n"
          ]
        }
      ]
    },
    {
      "cell_type": "markdown",
      "source": [
        "### C: Use Chebyshev's rule, and propose one-sigma interval. Specify any outliers detected\n",
        "\n",
        "Here, we will continue using the price column"
      ],
      "metadata": {
        "id": "8wICM4zQcugf"
      }
    },
    {
      "cell_type": "code",
      "source": [
        "%%R\n",
        "# Specifying K\n",
        "k = 1\n",
        "# Calculating the lower and upper bounds using Chebyshev's rule\n",
        "lower_range = Mean - k * SD\n",
        "upper_range = Mean + k * SD\n",
        "\n",
        "cat(\"Lower Range:\", lower_range, \"\\n\")\n",
        "cat(\"Upper Range:\", upper_range, \"\\n\")"
      ],
      "metadata": {
        "colab": {
          "base_uri": "https://localhost:8080/"
        },
        "id": "xoJ36mR0dZO0",
        "outputId": "c280db7d-18fc-4b63-9ca7-c9d5ea3be694"
      },
      "execution_count": 14,
      "outputs": [
        {
          "output_type": "stream",
          "name": "stdout",
          "text": [
            "Lower Range: -2391.67 \n",
            "Upper Range: 25323.33 \n"
          ]
        }
      ]
    },
    {
      "cell_type": "code",
      "source": [
        "# Outlier detection\n",
        "%%R\n",
        "outliers = data[data$Price < lower_range | data$Price > upper_range,]\n",
        "Price_outliers = outliers['Price']\n",
        "nrow(outliers)"
      ],
      "metadata": {
        "colab": {
          "base_uri": "https://localhost:8080/"
        },
        "id": "dNrucw-newzP",
        "outputId": "12f29caa-596f-4201-a909-5ce91ba6987e"
      },
      "execution_count": 15,
      "outputs": [
        {
          "output_type": "stream",
          "name": "stdout",
          "text": [
            "[1] 126\n"
          ]
        }
      ]
    },
    {
      "cell_type": "markdown",
      "source": [
        "#### Observation\n",
        "Using the Chebyshev's rule we can identify 126 outliers in the datasets, which is a combination of both the lower and upper outliers."
      ],
      "metadata": {
        "id": "GDrqlsSR8ydp"
      }
    },
    {
      "cell_type": "markdown",
      "source": [
        "### D: Explain how the box plot technique can be used to detect outliers. Apply this technique for one attribute in the dataset.\n",
        "\n",
        "\n",
        "A box plot is a graphical representation of data that summarizes key features of a data set. It provides a quick and easy way to visualize the distribution of data. A box plot consists of a box, whiskers, and outliers. The box represents the interquartile range (IQR), which is the 50% of the data that falls between the 25th and 75th percentiles. The whiskers represents the range of the dataset and extends from the box to the minimum and maximum values within a certain range, typically 1.5 times the IQR.\n",
        "Any data points that fall outside of the whiskers are considered outliers.\n",
        "\n",
        "To calculate the number of outliers in a dataset, we define the 1st and 3rd quantile of the data, as well as the IQR(Q1-QR). A formula to workout the upper and lower range is as follows:\n",
        "\n",
        "* Lower Range = Q1 - 1.5 * IQR\n",
        "* Upper Range = Q3 + 1.5 * IQR\n",
        "\n",
        "The outliers therefore are all data points beyond the lower range and upper range. For this assessment lets consider the Phone price variable. Here's how to calculate the box plot.\n"
      ],
      "metadata": {
        "id": "CKQ9-V1riKAw"
      }
    },
    {
      "cell_type": "code",
      "source": [
        "%%R\n",
        "# Defining the Quantile\n",
        "Q = quantile(data$Price)\n",
        "\n",
        "# Identifying Q1 and Q3\n",
        "Q1 = Q[2]; Q3 = Q[4]\n",
        "\n",
        "# Identifying the IQR\n",
        "IQR = Q1-Q3\n",
        "\n",
        "# Identifying the upper and lower range\n",
        "Lower_Range = Q1 - 1.5 * IQR\n",
        "Upper_Range = Q3 + 1.5 * IQR\n",
        "cat(\"Lower Range:\", Lower_Range, \"\\n\")\n",
        "cat(\"Upper Range:\", Upper_Range, \"\\n\")\n",
        "\n",
        "# Identifying outliers in the price columns\n",
        "outliers = data[data$Price < Lower_Range | data$Price > Upper_Range,]\n",
        "\n",
        "# Identifying the number of outliers\n",
        "cat(\"The number of outlier is :\",length(outliers))"
      ],
      "metadata": {
        "colab": {
          "base_uri": "https://localhost:8080/"
        },
        "id": "sPeEoo9ChTHH",
        "outputId": "7aed97d0-aee5-4e79-98b5-f569da430110"
      },
      "execution_count": 16,
      "outputs": [
        {
          "output_type": "stream",
          "name": "stdout",
          "text": [
            "Lower Range: 15616.75 \n",
            "Upper Range: 1145.75 \n",
            "The number of outlier is : 22"
          ]
        }
      ]
    },
    {
      "cell_type": "markdown",
      "source": [
        "With the boxplot technique we can identify just 22 outliers as opposed to 126 presented by the Chebyshev's rule. It is important to observe that this technique droped the ranges for the upper and lower class.\n",
        "\n",
        "\n",
        "For clarity, we will plot a box plot to give a visualization."
      ],
      "metadata": {
        "id": "k73TYM7Gk9d9"
      }
    },
    {
      "cell_type": "code",
      "source": [
        "%%R\n",
        "#Plotting a boxplot\n",
        "boxplot(data$Price, main = \"Box Plot of Price\", col = \"skyblue\")"
      ],
      "metadata": {
        "id": "ZJAS4sBAi9X2",
        "colab": {
          "base_uri": "https://localhost:8080/",
          "height": 497
        },
        "outputId": "e86cf491-6817-4ed9-adca-fbc9906d0564"
      },
      "execution_count": 17,
      "outputs": [
        {
          "output_type": "display_data",
          "data": {
            "image/png": "[encoded data removed]"
          },
          "metadata": {}
        }
      ]
    },
    {
      "cell_type": "markdown",
      "source": [
        "The diagram above shows the distribution of the Price colums. Outliers are those points displayed outside the box.\n",
        "\n",
        "The box plot gives a visual representation of both upper bound and lower bound outliers. From the image above we can see that there are no lower bound outliers, just upper bound.\n",
        "\n",
        "It is important to note that handling outliers depends on our analysis and the dataset."
      ],
      "metadata": {
        "id": "c0uNsPFxRKXT"
      }
    },
    {
      "cell_type": "markdown",
      "source": [
        "## QUESTION 2\n",
        "### a: Select four variables in the dataset and propose an appropriate probability model to quantify uncertainty of each variable.\n",
        "\n",
        "Here we will be using the following variables\n",
        "* **Price:** This column contains a continuous distribution that represents the cost for phones and thus we will be using the **Normal Distribution**.\n",
        "* **Number of sims:** This column contains the count of the number of sims present in each device. For this, the appropriate probability model is the **Poisson distribution**\n",
        "* **Operating Systems:** This column contains catgorical variables that shows various operating systems of each devices. The appropriate probability model for this distribution is the **Multinomial distribution**\n",
        "* **Wi-fi:** This column contains categorical variables of two options, yes and no, signifying the presense or absent of wi-fi in a device. For this column, the appropriate probability model is the the **Bernoulli Distribution**\n",
        "\n",
        "\n",
        "\n"
      ],
      "metadata": {
        "id": "DpUbtkLPSFAZ"
      }
    },
    {
      "cell_type": "markdown",
      "source": [
        "### B: For each model in part(a) estimate the parameters of the model.\n",
        "\n",
        "- Estimating the parameter in a Normal Distribution: In a normal distribution, the parameters typically refer to the mean (μ) and standard deviation (σ). These parameters define the shape and location of the distribution. Taking the Price colum, here is how we estimate the parameter.\n"
      ],
      "metadata": {
        "id": "bRBFvrN7VpD6"
      }
    },
    {
      "cell_type": "code",
      "source": [
        "%%R\n",
        "Column = data$Price\n",
        "mean_value = mean(Column) # Calculating the mean\n",
        "sd_value = sd(Column)  # Calculating the Standard deviation\n",
        "\n",
        "# Printing the values\n",
        "cat(\"Mean:\", mean_value, \"\\n\")\n",
        "cat(\"Standard Deviation:\", sd_value, \"\\n\")\n"
      ],
      "metadata": {
        "id": "fpBsuKNGR9Dz",
        "colab": {
          "base_uri": "https://localhost:8080/"
        },
        "outputId": "f8d95dae-b808-4876-98fb-2a4fad5826cb"
      },
      "execution_count": null,
      "outputs": [
        {
          "output_type": "stream",
          "name": "stdout",
          "text": [
            "Mean: 11465.83 \n",
            "Standard Deviation: 13857.5 \n"
          ]
        }
      ]
    },
    {
      "cell_type": "markdown",
      "source": [
        "- Estimating the parameter in the Poisson distribution. In a Poisson distribution, the parameter is often denoted by the symbol λ (lambda), which represents the average rate of occurrence or the average number of events in a fixed interval of time or space, thus the mean. Here's the estimated Poisson parameter in the Number of sums columns."
      ],
      "metadata": {
        "id": "1VNu79fiy3tb"
      }
    },
    {
      "cell_type": "code",
      "source": [
        "%%R\n",
        "lambda_estimate = round(mean(data$Number.of.SIMs),2)\n",
        "cat(\"Estimated Lambda:\", lambda_estimate, \"\\n\")"
      ],
      "metadata": {
        "colab": {
          "base_uri": "https://localhost:8080/"
        },
        "id": "uL1lNOdr0xhS",
        "outputId": "2dfd7d8b-2f88-4160-f59c-f8a735724ab5"
      },
      "execution_count": null,
      "outputs": [
        {
          "output_type": "stream",
          "name": "stdout",
          "text": [
            "Estimated Lambda: 1.83 \n"
          ]
        }
      ]
    },
    {
      "cell_type": "markdown",
      "source": [
        "- Estimating the Parameter in the Multinomial Distribution: In a multinomial distribution, the parameters are probabilities assigned to different outcomes, and they are typically represented by the vector P = (p1,p2,...,pk) where k is the number of posibilities. Here is the estimated parameter in the Operating system columns.\n"
      ],
      "metadata": {
        "id": "hwlYGtO154hL"
      }
    },
    {
      "cell_type": "code",
      "source": [
        "%%R\n",
        "# Identifying the Operating system column\n",
        "X=data$Operating.system\n",
        "\n",
        "# Getting the count of each OS in the dataset\n",
        "t=table(X)\n",
        "\n",
        "# calulating the estimated probability for each So\n",
        "p=round(t/sum(t),3)\n",
        "\n",
        "print(p)"
      ],
      "metadata": {
        "colab": {
          "base_uri": "https://localhost:8080/"
        },
        "id": "AW5tz8EP7oyi",
        "outputId": "c2886e57-5376-4edb-fe79-48227814ac37"
      },
      "execution_count": null,
      "outputs": [
        {
          "output_type": "stream",
          "name": "stdout",
          "text": [
            "X\n",
            "   Android BlackBerry   Cyanogen        iOS   Sailfish      Tizen    Windows \n",
            "     0.956      0.007      0.007      0.013      0.001      0.002      0.014 \n"
          ]
        }
      ]
    },
    {
      "cell_type": "markdown",
      "source": [
        "- Estimating the parameter in a Bernoulli Distribution. In a Bernoulli distribution, there is a single parameter denoted by p, which represents the probability of success. The probability of failure is = 1 - p. Here is estimated parameter in the Wi-fi column"
      ],
      "metadata": {
        "id": "J3V6-7Tj9CA6"
      }
    },
    {
      "cell_type": "code",
      "source": [
        "%%R\n",
        "# Identifying the wifi column\n",
        "Wi_fi = data$Wi.Fi\n",
        "\n",
        "# Getting the count of successes(yes) and failuers(No)\n",
        "count = table(Wi_fi)\n",
        "\n",
        "# Isolating the number of successes\n",
        "success = count[2]\n",
        "\n",
        "# Printing out the parameter\n",
        "p_estimate = success/nrow(data)\n",
        "print(p_estimate)"
      ],
      "metadata": {
        "colab": {
          "base_uri": "https://localhost:8080/"
        },
        "id": "vyfIDX7Q-IEj",
        "outputId": "17a2f101-70b0-40ed-aa69-1234407cfb44"
      },
      "execution_count": null,
      "outputs": [
        {
          "output_type": "stream",
          "name": "stdout",
          "text": [
            "      Yes \n",
            "0.9941133 \n"
          ]
        }
      ]
    },
    {
      "cell_type": "markdown",
      "source": [
        "### C: Express the way in which each model can be used for the predictive analytics, then find the prediction for each attribute.\n",
        "\n",
        "To predict certain probabilities, we can use the Probability Mass Function(PMF) or the Cumulative Distribution Function(CDF). The use of either funtion depends on what predictions we need to make. Here is how we make predictions using each models either of the functions.\n",
        "\n",
        "* **Normal Distribution:** In R,  we use the 'pnorm' funtion to calculate the CDF of a normal distribution. It is given as pnorm(x, mean, sd) ,\n",
        "  - where x represents the value for which we want to calculate the probability.\n",
        "  \n",
        "  For instance, lets answer a question.\n",
        "What is the probability that a randomly selected Phone costs less than or equal to 10,000 INR?."
      ],
      "metadata": {
        "id": "pR43laJSBQYt"
      }
    },
    {
      "cell_type": "code",
      "source": [
        "%%R\n",
        "# Estimating the parameter\n",
        "mean_price = mean(data$Price)\n",
        "sd_price = sd(data$Price)\n",
        "\n",
        "# Calculate the probability that the cost is less than 10,000 P(X≤10,000)\n",
        "p_less_than_100 = pnorm(10000, mean = mean_price, sd = sd_price)\n",
        "\n",
        "# Calculate the probability that the costs more than 10,000 P(X>10,000)\n",
        "p_more_than_100 = 1 - p_less_than_100\n",
        "\n",
        "# Display Results\n",
        "cat(\"Probability that Price <= 10,000:\", p_less_than_100, \"\\n\")\n",
        "cat(\"Probability that Price > 10,000:\", p_more_than_100, \"\\n\")\n"
      ],
      "metadata": {
        "colab": {
          "base_uri": "https://localhost:8080/"
        },
        "id": "OoZIJcY-uRo_",
        "outputId": "569757f9-5b1a-40a5-aa62-e52287d2b985"
      },
      "execution_count": null,
      "outputs": [
        {
          "output_type": "stream",
          "name": "stdout",
          "text": [
            "Probability that Price <= 10,000: 0.457879 \n",
            "Probability that Price > 10,000: 0.542121 \n"
          ]
        }
      ]
    },
    {
      "cell_type": "markdown",
      "source": [
        "##### Interpretation\n",
        "This suggests that there is a 45.79% chance that a randomly selected phone price will be less than or equal to 10,000 rupees, and a 54.21% chance that the prices will likely be greater than 10,000 rupees.\n",
        "\n",
        "* **Poisson Distribution:** In R, the PMF for Poisson Distribution is given as\n",
        "'dpois(x, lambda)',\n",
        "  - where x represents the number of events or occurrences we are interested in,\n",
        "  - lambda is the average rate of occurrence.\\\n",
        "  \n",
        "  For instance, let's answer a question\\\n",
        "What is the probability of a phone having 2 SIMs, i.e P(X=2)?\n"
      ],
      "metadata": {
        "id": "oMng_FRUxj6_"
      }
    },
    {
      "cell_type": "code",
      "source": [
        "%%R\n",
        "# Estimating parameter\n",
        "lambda = mean(data$Number.of.SIMs)\n",
        "\n",
        "# The probability of having exactly 2 SIMs P(X=2)\n",
        "p_of_2_sims = dpois(2, lambda = lambda)\n",
        "\n",
        "cat(\"The probability of a phone having exactly 2 SIMs is:\", p_of_2_sims, \"\\n\")"
      ],
      "metadata": {
        "colab": {
          "base_uri": "https://localhost:8080/"
        },
        "id": "Kj6lAhcU53XV",
        "outputId": "e59175cf-6cf2-4ec7-d230-d2e8361257bd"
      },
      "execution_count": null,
      "outputs": [
        {
          "output_type": "stream",
          "name": "stdout",
          "text": [
            "The probability of a phone having exactly 2 SIMs is: 0.2686958 \n"
          ]
        }
      ]
    },
    {
      "cell_type": "markdown",
      "source": [
        "##### Interpretation:\n",
        "This suggest that there is a 26% likelihood of randomly picking a phone with two sims\n",
        "\n",
        "* **Multinomial Distribution**: In R, we use the 'dmultinom' function to calculate the PMF of a multinomial distribution. It is denoted as\n",
        "dmultinom(x,n,p)\n",
        "  - Where x = the observed counts for each category,\n",
        "  -       n = the total number of trials,\n",
        "  - p = Probabilities for each category\n",
        "\n",
        "  For instance, let's answer a question \\\n",
        "  What is the probability of getting 3 Andriod, 2 blackbery, 2 Cyanogen, 1 ios and 1 windows?"
      ],
      "metadata": {
        "id": "0ENNgvBT7aKI"
      }
    },
    {
      "cell_type": "code",
      "source": [
        "%%R\n",
        "# Identifying the Operating system column\n",
        "X=data$Operating.system\n",
        "\n",
        "# Estimating the parameter\n",
        "T=table(X)\n",
        "p=T/nrow(data) # the probability of each category\n",
        "\n",
        "# The total number of trials\n",
        "n=9\n",
        "\n",
        "# The counts of each category we are observing\n",
        "x=c(3, 2, 2, 1, 0, 0, 1)\n",
        "\n",
        "# Calculate the multinomial PMF\n",
        "p_result = dmultinom(x,n,p)\n",
        "\n",
        "p_result"
      ],
      "metadata": {
        "colab": {
          "base_uri": "https://localhost:8080/"
        },
        "id": "zmlno7rd6rXz",
        "outputId": "cba53bfa-2493-460a-947f-42cfa1c8367e"
      },
      "execution_count": null,
      "outputs": [
        {
          "output_type": "stream",
          "name": "stdout",
          "text": [
            "[1] 6.77028e-09\n"
          ]
        }
      ]
    },
    {
      "cell_type": "markdown",
      "source": [
        "* **Bernoulli distribution**: In R, we use the 'dbinom' function to calculate the PMF for a Bernoulli distribution. It is denoted as dbinom(j,1,p)\n",
        "  - where; j is the possible outcome\n",
        "  - p is the probability of getting one\n",
        "\n",
        "  For instance, what is the probability of getting a phone with a wifi? P(X=1)"
      ],
      "metadata": {
        "id": "NCbbs8toHUla"
      }
    },
    {
      "cell_type": "code",
      "source": [
        "%%R\n",
        "# Identifying the wifi column\n",
        "Wi_fi = data$Wi.Fi\n",
        "j= 1\n",
        "\n",
        "# Estimating the parameter\n",
        "count = table(Wi_fi) # Getting the count of successes(yes) and failuers(No)\n",
        "success = count[2] # Isolating the number of successes\n",
        "p = success/nrow(data) # the probability of success\n",
        "\n",
        "# The PMF for getting 1 (success)\n",
        "pmf_success = dbinom(1, size = 1, prob = p)\n",
        "print(pmf_success)"
      ],
      "metadata": {
        "colab": {
          "base_uri": "https://localhost:8080/"
        },
        "id": "-BsmSPZSIRhO",
        "outputId": "a1fed327-bc84-4edf-c225-eac2f2c59e35"
      },
      "execution_count": null,
      "outputs": [
        {
          "output_type": "stream",
          "name": "stdout",
          "text": [
            "[1] 0.9941133\n"
          ]
        }
      ]
    },
    {
      "cell_type": "markdown",
      "source": [
        "##### Interpretation\n",
        "There's a 99% chance of picking a phone with a wi_fi.\n",
        "\n",
        "\n",
        "## Question 3\n",
        "### A: Consider two categorical variables of the dataset, develop a binary decision making strategy to check whether two variables are independent at the significant level alpha=0.01.\n",
        "\n",
        "For this test we will consider the Wifi and Bluetooth column, and we will test to see their dependence/independence from each other.\n",
        "\n",
        "**Step 1:** State the hypothesis\\\n",
        "H0: Wifi is independent of Bluetooth \\\n",
        "H1: Wifi is dependent of Bluetooth\n",
        "\n",
        "**Step 2:** Find the statistic and critical values\n"
      ],
      "metadata": {
        "id": "-CzqoBMOJfUo"
      }
    },
    {
      "cell_type": "code",
      "source": [
        "%%R\n",
        "# Specifying X1 and X2\n",
        "X1 = data$Wi.Fi\n",
        "X2 = data$Bluetooth\n",
        "\n",
        "# setting alpha\n",
        "alpha = 0.01\n",
        "\n",
        "# Creating the contingenct table\n",
        "O = table(X1,X2)\n",
        "O"
      ],
      "metadata": {
        "colab": {
          "base_uri": "https://localhost:8080/"
        },
        "id": "8XEBsqbuft75",
        "outputId": "ff87235e-3927-4b9d-ea34-21f07d716b23"
      },
      "execution_count": null,
      "outputs": [
        {
          "output_type": "stream",
          "name": "stdout",
          "text": [
            "     X2\n",
            "X1      No  Yes\n",
            "  No     3    5\n",
            "  Yes   12 1339\n"
          ]
        }
      ]
    },
    {
      "cell_type": "code",
      "source": [
        "%%R\n",
        "n = nrow(data) # Identifying the number of row\n",
        "\n",
        "# Defining the matrix\n",
        "E= matrix(NA,2,2)\n",
        "\n",
        "for (i in 1:2){\n",
        "    for(j in 1:2){\n",
        "        Ci = sum(O[i,]);\n",
        "        Cj = sum(O[,j])\n",
        "        E[i,j]=(Ci*Cj)/n\n",
        "    }\n",
        "}"
      ],
      "metadata": {
        "id": "X5sFxSj2jhg5"
      },
      "execution_count": null,
      "outputs": []
    },
    {
      "cell_type": "markdown",
      "source": [
        "* Find the Chi-Square test statistic(test value) and the critical value(c.value)"
      ],
      "metadata": {
        "id": "B2LmAoGkrYO_"
      }
    },
    {
      "cell_type": "code",
      "source": [
        "%%R\n",
        "# Computing the test statistic(test value)\n",
        "test.value = sum((O-E)^2/E)\n",
        "\n",
        "# Computing the c.value\n",
        "c.value = qchisq(1-alpha,4)\n",
        "\n",
        "\n",
        "cat(\"The test value is :\",test.value,'\\n')\n",
        "cat(\"The critcal value is : \", c.value)"
      ],
      "metadata": {
        "colab": {
          "base_uri": "https://localhost:8080/"
        },
        "id": "J0bWJBQmpz1e",
        "outputId": "7878c323-cef3-4a5b-a514-2a49b8228a39"
      },
      "execution_count": null,
      "outputs": [
        {
          "output_type": "stream",
          "name": "stdout",
          "text": [
            "The test value is : 97.65977 \n",
            "The critcal value is :  13.2767"
          ]
        }
      ]
    },
    {
      "cell_type": "markdown",
      "source": [
        "* **Step 3:** Decision rule \\\n",
        "If the test value is greater than the c value reject H0, if the reverse is the case, accept HO."
      ],
      "metadata": {
        "id": "xg9K0oE6rdER"
      }
    },
    {
      "cell_type": "code",
      "source": [
        "%%R\n",
        "# Decision Making\n",
        "if (test.value > c.value){cat(\"Reject HO. Wifi is dependent on Bluetooth\")\n",
        "}else{\n",
        "    cat(\"Accept HO. Wifi is independent of Bluetooth\")\n",
        "}"
      ],
      "metadata": {
        "colab": {
          "base_uri": "https://localhost:8080/"
        },
        "id": "DxLuFso113Y8",
        "outputId": "a5e39abb-1d70-4398-d8d5-e20ac81fd715"
      },
      "execution_count": null,
      "outputs": [
        {
          "output_type": "stream",
          "name": "stdout",
          "text": [
            "Reject HO. Wifi is dependent on Bluetooth"
          ]
        }
      ]
    },
    {
      "cell_type": "markdown",
      "source": [
        "* **Step 3:** Explain your decision and Interpret results.\\\n",
        "For this analysis, since the test.value is greater than c.value then we accept H0. This implies that on a siginificance level of 0.01, the two categorical variable Bluetooth and Wifi are dependent on each other.\n"
      ],
      "metadata": {
        "id": "TYl_CvcOsgtF"
      }
    },
    {
      "cell_type": "code",
      "source": [
        "%%R\n",
        "unique(data$Operating.system)"
      ],
      "metadata": {
        "colab": {
          "base_uri": "https://localhost:8080/"
        },
        "id": "3OpZTtkLNEjD",
        "outputId": "ecec69ec-8a28-4485-b7cc-7afb770beeea"
      },
      "execution_count": 31,
      "outputs": [
        {
          "output_type": "stream",
          "name": "stdout",
          "text": [
            "[1] \"Android\"    \"iOS\"        \"Cyanogen\"   \"BlackBerry\" \"Windows\"   \n",
            "[6] \"Tizen\"      \"Sailfish\"  \n"
          ]
        }
      ]
    },
    {
      "cell_type": "markdown",
      "source": [
        "### B. Consider one categorical variable, apply goodness of fit test to evaluate whether a candidate set of probabilities can be appropriate to quantify the uncertainty of class frequency at the significant level alpha=0.05.\n",
        "\n",
        "In this hypothesis test, we are conducting a goodness-of-fit test for categorical data. We'll use the operating systems column as an example.\n",
        "\n",
        "For easy interpretation, we will represent our hypothesis as the following:\n",
        "* OS1: Andriod\n",
        "* OS2: iOS\n",
        "* OS3: Cyanogen\n",
        "* OS4: BlackBerry\n",
        "* OS5: Windows\n",
        "* OS6: Tizen\n",
        "* OS7: Sailfish\n",
        "\n",
        "** Stating the hypothesis** \\\n",
        "\n",
        "H0: OS1=OS2=OS3=OS4=OS5=OS6=OS7\n",
        "H1: NOT HO\n",
        "\n",
        "side-note:*The null hypothesis (H0) states that the proportions of the different categories in the operating systems column are equal. In other words, the distribution of operating systems across all categories (OS1, OS2, OS3, OS4, OS5, OS6, and OS7) is the same. The Null Hypothesis(H1) states the opposite*\n"
      ],
      "metadata": {
        "id": "paIZX2qG7DuW"
      }
    },
    {
      "cell_type": "code",
      "source": [
        "%%R\n",
        "# Specifying the data\n",
        "X = data$Operating.system\n",
        "\n",
        "# Specifying alpha\n",
        "alpha = 0.05\n",
        "\n",
        "# Frequency of each category\n",
        "o = table(X)\n",
        "\n",
        "# Expected probability for each category\n",
        "N = length(unique(X))\n",
        "p = rep(1/N,N)\n",
        "\n",
        "n = length(X)\n",
        "# Expected frequency for each category\n",
        "E = n*p\n",
        "\n",
        "# computing the test value\n",
        "test.value = sum((o - E)^2 / E)\n",
        "\n",
        "# Degrees of freedom\n",
        "df = n - 1\n",
        "\n",
        "# Computing c.value\n",
        "c.value = qchisq(1 - alpha, df)\n",
        "\n",
        "cat(\"The test value is :\",test.value,'\\n')\n",
        "cat(\"The critcal value is : \", c.value)\n",
        "\n"
      ],
      "metadata": {
        "colab": {
          "base_uri": "https://localhost:8080/"
        },
        "id": "hysqWkGZ7xAX",
        "outputId": "2cab7e4f-0540-44b9-b1c4-a4db6b01ea59"
      },
      "execution_count": null,
      "outputs": [
        {
          "output_type": "stream",
          "name": "stdout",
          "text": [
            "The test value is : 7336.973 \n",
            "The critcal value is :  1444.844"
          ]
        }
      ]
    },
    {
      "cell_type": "markdown",
      "source": [
        "- Decision rule:\\\n",
        "If test.value is > c.value, therefore we reject HO"
      ],
      "metadata": {
        "id": "2V9dgCG-B5g7"
      }
    },
    {
      "cell_type": "code",
      "source": [
        "%%R\n",
        "# Compare the test statistic with critical value or use p-value for hypothesis testing\n",
        "if (test.value > c.value) {\n",
        "  cat(\"Reject H0\")\n",
        "} else {\n",
        "  cat(\"Accept H0\")\n",
        "}"
      ],
      "metadata": {
        "colab": {
          "base_uri": "https://localhost:8080/"
        },
        "id": "wmsExScaCKNb",
        "outputId": "d06b7449-3ee0-40c9-b812-c79c0c4ec7b0"
      },
      "execution_count": null,
      "outputs": [
        {
          "output_type": "stream",
          "name": "stdout",
          "text": [
            "Reject H0"
          ]
        }
      ]
    },
    {
      "cell_type": "markdown",
      "source": [
        "#### Interpretation:\n",
        "We reject H0, thus The proportions of operating systems are not all equal (i.e., at least one proportion is different).\n",
        "\n",
        "\n",
        "### C. Consider one continuous variable in the dataset, and apply test of mean for a proposed candidate of μ at the significant level alpha=0.05\n",
        "\n",
        "Here, using the price columns, we want to test whether or not the average price in the dataset is 10,000 INR.\n",
        "\n",
        "Thus, MuO = 10,000.\\\n",
        "**Step one** State the Hypothesis \\\n",
        "\n",
        "H0: The average price in the dataset is 10,000, i.e \\\n",
        "mu == 10,000 \\\n",
        "H1: The average price in the dataset is not 10,000, i.e \\\n",
        "mu =/=10,000 \\\n",
        "\n",
        "**Step 2** Find the test and critical value"
      ],
      "metadata": {
        "id": "BH9wdqvxC0pA"
      }
    },
    {
      "cell_type": "code",
      "source": [
        "%%R\n",
        "\n",
        "X = data$Price\n",
        "\n",
        "# Defining Mu\n",
        "muO= 10000\n",
        "\n",
        "# Defining alpha\n",
        "alpha = 0.05\n",
        "\n",
        "# Defining the mean\n",
        "Xbar = mean(X)\n",
        "\n",
        "# Defining the Sigma(standard deviation)\n",
        "sigma = sd(X)\n",
        "\n",
        "# Defining the length of rows\n",
        "n = length(X)\n",
        "\n",
        "# Calculating the test value\n",
        "test.value = (Xbar-muO)/(sigma/sqrt(n))\n",
        "\n",
        "# Calculating the critical value\n",
        "c.value = qnorm(alpha/2)\n",
        "\n",
        "cat(\"The test value is :\",test.value,'\\n')\n",
        "cat(\"The critcal value is : \", c.value)\n",
        "\n"
      ],
      "metadata": {
        "colab": {
          "base_uri": "https://localhost:8080/"
        },
        "id": "VEvHO0X0C3aZ",
        "outputId": "98dc6fa1-4657-47b8-9145-c95a2f961f83"
      },
      "execution_count": null,
      "outputs": [
        {
          "output_type": "stream",
          "name": "stdout",
          "text": [
            "The test value is : 3.899485 \n",
            "The critcal value is :  -1.959964"
          ]
        }
      ]
    },
    {
      "cell_type": "markdown",
      "source": [
        "* Decision:\\\n",
        "If test.value is > c.value, therefore we reject HO"
      ],
      "metadata": {
        "id": "ohKomFUl47U-"
      }
    },
    {
      "cell_type": "code",
      "source": [
        "%%R\n",
        "# Compare the test statistic with critical value or use p-value for hypothesis testing\n",
        "if (test.value > c.value) {\n",
        "  cat(\"Reject H0\")\n",
        "} else {\n",
        "  cat(\"Accept H0\")\n",
        "}"
      ],
      "metadata": {
        "colab": {
          "base_uri": "https://localhost:8080/"
        },
        "id": "zRq6tt1D0754",
        "outputId": "a7750188-9a59-4e52-e83f-75d9b783e1f4"
      },
      "execution_count": null,
      "outputs": [
        {
          "output_type": "stream",
          "name": "stdout",
          "text": [
            "Reject H0"
          ]
        }
      ]
    },
    {
      "cell_type": "markdown",
      "source": [
        "The test value is in the rejection region (beyond the critical value), thus reject the null hypothesis and conclude that there is evidence that the average price of phones is different from 10,000 INR"
      ],
      "metadata": {
        "id": "ntpJzcXK6NGK"
      }
    }
  ]
}